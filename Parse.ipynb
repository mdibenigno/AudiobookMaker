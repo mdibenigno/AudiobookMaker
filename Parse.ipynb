{
 "cells": [
  {
   "cell_type": "code",
   "execution_count": 2,
   "metadata": {},
   "outputs": [],
   "source": [
    "from dotenv import load_dotenv\n",
    "import os\n",
    "\n",
    "load_dotenv()\n",
    "\n",
    "openai_api_key = os.getenv(\"OPENAI_API_KEY\")"
   ]
  },
  {
   "cell_type": "code",
   "execution_count": 3,
   "metadata": {},
   "outputs": [],
   "source": [
    "import nltk\n",
    "from pydub import AudioSegment\n",
    "import openai\n",
    "from pathlib import Path"
   ]
  },
  {
   "cell_type": "code",
   "execution_count": 4,
   "metadata": {},
   "outputs": [],
   "source": [
    "# Read the file\n",
    "with open('C:\\dev\\MD Playground\\Ben Franklin GPT\\data\\Autobiography of Ben Franklin.txt', 'r') as file:\n",
    "    data = file.read()\n",
    "\n",
    "# Remove unnecessary line breaks\n",
    "data = data.replace('\\n', ' ')\n",
    "data = data.replace('\\r', ' ')\n",
    "\n",
    "# Remove extra spaces\n",
    "import re\n",
    "data = re.sub(' +', ' ', data)\n",
    "data = re.sub(r'\\[.*?\\]', '', data)\n",
    "\n",
    "# Write the cleaned data back to the file\n",
    "with open('file.txt', 'w') as file:\n",
    "    file.write(data)"
   ]
  },
  {
   "cell_type": "code",
   "execution_count": 12,
   "metadata": {},
   "outputs": [],
   "source": [
    "num_chapters = 4\n",
    "chapter_size = len(data) // num_chapters\n",
    "chapters = [data[i:i + chapter_size] for i in range(0, len(data), chapter_size)]"
   ]
  },
  {
   "cell_type": "code",
   "execution_count": 5,
   "metadata": {},
   "outputs": [],
   "source": [
    "# Read the text file\n",
    "with open('file.txt', 'r') as file:\n",
    "    text = file.read()\n",
    "\n",
    "# Tokenize the text and split it into chunks of 4096 tokens\n",
    "chunk_size = 4096\n",
    "chunks = [text[i:i+chunk_size] for i in range(0, len(text), chunk_size)]\n",
    "\n",
    "# Initialize an empty audio segment\n",
    "combined = AudioSegment.empty()"
   ]
  },
  {
   "cell_type": "code",
   "execution_count": 15,
   "metadata": {},
   "outputs": [
    {
     "data": {
      "text/plain": [
       "<_io.BufferedRandom name='output.mp3'>"
      ]
     },
     "execution_count": 15,
     "metadata": {},
     "output_type": "execute_result"
    }
   ],
   "source": [
    "# Loop over the first two chunks to test before doing the whole text!\n",
    "for i, chunk in enumerate(chunks[:2]):\n",
    "    # Send the chunk to the OpenAI API\n",
    "    response = openai.audio.speech.create(\n",
    "        model=\"tts-1-hd\",\n",
    "        voice=\"onyx\",\n",
    "        input=chunk,\n",
    "        speed=1.5\n",
    "    )\n",
    "\n",
    "    # Save the response to a temporary file\n",
    "    temp_file_path = Path(f'tmp{i}.mp3')\n",
    "    response.stream_to_file(temp_file_path)\n",
    "\n",
    "    # Append the audio from the temporary file to the combined audio\n",
    "    combined += AudioSegment.from_mp3(temp_file_path)\n",
    "\n",
    "# Save the combined audio to a file\n",
    "combined.export(\"output.mp3\", format=\"mp3\")"
   ]
  },
  {
   "cell_type": "code",
   "execution_count": 16,
   "metadata": {},
   "outputs": [
    {
     "data": {
      "text/plain": [
       "<_io.BufferedRandom name='Autobiography Benjamin Franklin.mp3'>"
      ]
     },
     "execution_count": 16,
     "metadata": {},
     "output_type": "execute_result"
    }
   ],
   "source": [
    "# Loop over the chunks (whole text doc)\n",
    "for i, chunk in enumerate(chunks):\n",
    "    # Send the chunk to the OpenAI API\n",
    "    response = openai.audio.speech.create(\n",
    "        model=\"tts-1-hd\",\n",
    "        voice=\"onyx\",\n",
    "        input=chunk,\n",
    "        speed=1.25\n",
    "    )\n",
    "\n",
    "    # Save the response to a temporary file\n",
    "    temp_file_path = Path(f'temp{i}.mp3')\n",
    "    response.stream_to_file(temp_file_path)\n",
    "\n",
    "    # Append the audio from the temporary file to the combined audio\n",
    "    combined += AudioSegment.from_mp3(temp_file_path)\n",
    "\n",
    "# Save the combined audio to a file\n",
    "combined.export(\"Autobiography Benjamin Franklin.mp3\", format=\"mp3\")"
   ]
  },
  {
   "cell_type": "code",
   "execution_count": 6,
   "metadata": {},
   "outputs": [],
   "source": [
    "#clean up the temp files\n",
    "for i, chunk in enumerate(chunks):\n",
    "    temp_file_path = Path(f'temp{i}.mp3')\n",
    "    os.remove(temp_file_path)"
   ]
  }
 ],
 "metadata": {
  "kernelspec": {
   "display_name": "venv",
   "language": "python",
   "name": "python3"
  },
  "language_info": {
   "codemirror_mode": {
    "name": "ipython",
    "version": 3
   },
   "file_extension": ".py",
   "mimetype": "text/x-python",
   "name": "python",
   "nbconvert_exporter": "python",
   "pygments_lexer": "ipython3",
   "version": "3.10.0"
  },
  "orig_nbformat": 4
 },
 "nbformat": 4,
 "nbformat_minor": 2
}
